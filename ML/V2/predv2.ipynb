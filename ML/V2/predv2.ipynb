{
 "cells": [
  {
   "cell_type": "code",
   "execution_count": 1,
   "id": "b06a76e4-7217-4334-a5cc-0be0a51060f3",
   "metadata": {},
   "outputs": [
    {
     "name": "stdin",
     "output_type": "stream",
     "text": [
      "Enter the last semester you have completed (1-7):  4\n"
     ]
    },
    {
     "name": "stdout",
     "output_type": "stream",
     "text": [
      "Enter your SGPA for previous semesters one by one:\n"
     ]
    },
    {
     "name": "stdin",
     "output_type": "stream",
     "text": [
      "Enter SGPA for SEM-1:  8.06\n",
      "Enter SGPA for SEM-2:  7.79\n",
      "Enter SGPA for SEM-3:  8.32\n",
      "Enter SGPA for SEM-4:  7.89\n",
      "1:Do you want to predict only the next semester all remaining semesters? (Enter 'next' or 'all'):  next\n"
     ]
    },
    {
     "name": "stdout",
     "output_type": "stream",
     "text": [
      "\n",
      "Model Evaluation:\n",
      "Model Performance for SEM-5:\n",
      "MAE: 0.2309\n",
      "MSE: 0.0919\n",
      "R² Score: 0.7694\n",
      "\n",
      "\n",
      "Predictions for Future Semesters:\n",
      "Predicted SGPA for SEM-5: 8.13\n"
     ]
    },
    {
     "name": "stderr",
     "output_type": "stream",
     "text": [
      "C:\\Users\\Noyal\\AppData\\Local\\Programs\\Python\\Python312\\Lib\\site-packages\\sklearn\\utils\\validation.py:2739: UserWarning: X does not have valid feature names, but StandardScaler was fitted with feature names\n",
      "  warnings.warn(\n"
     ]
    }
   ],
   "source": [
    "import pandas as pd\n",
    "import numpy as np\n",
    "from sklearn.model_selection import train_test_split\n",
    "from sklearn.preprocessing import StandardScaler\n",
    "from sklearn.neural_network import MLPRegressor\n",
    "from sklearn.metrics import mean_absolute_error, mean_squared_error\n",
    "\n",
    "# Load data\n",
    "data = pd.read_csv('Data-Copy1.csv')\n",
    "if \"Unnamed: 0\" in data.columns:\n",
    "    data.drop(columns=[\"Unnamed: 0\"], inplace=True)\n",
    "\n",
    "# Define semester labels\n",
    "semester_labels = [f\"SEM-{i}\" for i in range(1, 9)]\n",
    "\n",
    "# Feature Engineering\n",
    "data['Avg_SGPA'] = data.iloc[:, :-2].mean(axis=1)\n",
    "data['SGPA_Improvement'] = data.iloc[:, 1:-2].subtract(data.iloc[:, :-3].values).mean(axis=1)\n",
    "data['SGPA_Difference'] = data.iloc[:, -3] - data.iloc[:, 0]\n",
    "\n",
    "# Split data dynamically\n",
    "x_train_test = {}\n",
    "y_train_test = {}\n",
    "scalers = {}\n",
    "mlp_models = {}\n",
    "\n",
    "# Train models for each semester\n",
    "for i in range(2, 9):\n",
    "    predictors = semester_labels[: i - 1] + [\"Avg_SGPA\", \"SGPA_Improvement\", \"SGPA_Difference\"]\n",
    "    target = f\"SEM-{i}\"\n",
    "    \n",
    "    x = data[predictors]\n",
    "    y = data[target]\n",
    "    x_train, x_test, y_train, y_test = train_test_split(x, y, test_size=0.3, random_state=2)\n",
    "    x_train_test[target] = (x_train, x_test)\n",
    "    y_train_test[target] = (y_train, y_test)\n",
    "    \n",
    "    # Standardization\n",
    "    scaler = StandardScaler()\n",
    "    x_train_scaled = scaler.fit_transform(x_train)\n",
    "    x_test_scaled = scaler.transform(x_test)\n",
    "    scalers[target] = scaler\n",
    "    \n",
    "    # Train model\n",
    "    model = MLPRegressor(hidden_layer_sizes=(64, 32), activation='relu', solver='adam', max_iter=1000, random_state=2)\n",
    "    model.fit(x_train_scaled, y_train)\n",
    "    mlp_models[target] = model\n",
    "\n",
    "# Evaluation function\n",
    "def evaluate_model(model, x_test_scaled, y_test, sem_label):\n",
    "    y_pred = model.predict(x_test_scaled)\n",
    "    print(f\"Model Performance for {sem_label}:\")\n",
    "    print(f\"MAE: {mean_absolute_error(y_test, y_pred):.4f}\")\n",
    "    print(f\"MSE: {mean_squared_error(y_test, y_pred):.4f}\")\n",
    "    print(f\"R² Score: {model.score(x_test_scaled, y_test):.4f}\\n\")\n",
    "\n",
    "# Get input semester\n",
    "current_sem = int(input(\"Enter the last semester you have completed (1-7): \"))\n",
    "\n",
    "if current_sem in range(1, 8):\n",
    "    # Collect SGPA for completed semesters\n",
    "    print(\"Enter your SGPA for previous semesters one by one:\")\n",
    "    prev_sgpa = [float(input(f\"Enter SGPA for SEM-{i}: \")) for i in range(1, current_sem + 1)]\n",
    "    \n",
    "    # Ask user for prediction preference\n",
    "    prediction_choice = input(\"1:Do you want to predict only the next semester all remaining semesters? (Enter 'next' or 'all'): \").lower()\n",
    "    \n",
    "    # Determine which semesters to predict\n",
    "    if prediction_choice == 'next':\n",
    "        future_semesters = [current_sem + 1]\n",
    "    else:  # Default to 'all' for any other input\n",
    "        future_semesters = range(current_sem + 1, 9)\n",
    "    \n",
    "    # Print model evaluation for selected future semesters\n",
    "    print(\"\\nModel Evaluation:\")\n",
    "    for future_sem in future_semesters:\n",
    "        target = f\"SEM-{future_sem}\"\n",
    "        evaluate_model(mlp_models[target], \n",
    "                      scalers[target].transform(x_train_test[target][1]), \n",
    "                      y_train_test[target][1], \n",
    "                      target)\n",
    "    \n",
    "    # Predict selected future semesters\n",
    "    print(\"\\nPredictions for Future Semesters:\")\n",
    "    \n",
    "    # Make a copy of the previous SGPAs to update as we make predictions\n",
    "    all_sgpa = prev_sgpa.copy()\n",
    "    \n",
    "    for future_sem in future_semesters:\n",
    "        target = f\"SEM-{future_sem}\"\n",
    "        \n",
    "        # Get only the required previous semesters for this prediction\n",
    "        required_prev_sgpa = all_sgpa[:future_sem-1]\n",
    "        \n",
    "        # Compute derived features\n",
    "        avg_sgpa = np.mean(required_prev_sgpa)\n",
    "        sgpa_improvement = np.mean(np.diff(required_prev_sgpa)) if len(required_prev_sgpa) > 1 else 0\n",
    "        sgpa_difference = required_prev_sgpa[-1] - required_prev_sgpa[0] if len(required_prev_sgpa) > 1 else 0\n",
    "        \n",
    "        # Create input features array\n",
    "        new_input_extended = np.array(required_prev_sgpa + [avg_sgpa, sgpa_improvement, sgpa_difference]).reshape(1, -1)\n",
    "        \n",
    "        # Standardize and Predict\n",
    "        new_input_scaled = scalers[target].transform(new_input_extended)\n",
    "        prediction = mlp_models[target].predict(new_input_scaled)\n",
    "        predicted_sgpa = round(prediction[0], 2)\n",
    "        \n",
    "        print(f\"Predicted SGPA for {target}: {predicted_sgpa}\")\n",
    "        \n",
    "        # Add the prediction to all_sgpa for use in subsequent predictions\n",
    "        all_sgpa.append(predicted_sgpa)\n",
    "else:\n",
    "    print(\"Invalid choice. Please enter a number between 1 and 7.\")"
   ]
  },
  {
   "cell_type": "code",
   "execution_count": null,
   "id": "9af33fb3-f09e-4fc3-bac2-228fc8d35d55",
   "metadata": {},
   "outputs": [],
   "source": []
  }
 ],
 "metadata": {
  "kernelspec": {
   "display_name": "Python 3 (ipykernel)",
   "language": "python",
   "name": "python3"
  },
  "language_info": {
   "codemirror_mode": {
    "name": "ipython",
    "version": 3
   },
   "file_extension": ".py",
   "mimetype": "text/x-python",
   "name": "python",
   "nbconvert_exporter": "python",
   "pygments_lexer": "ipython3",
   "version": "3.12.5"
  }
 },
 "nbformat": 4,
 "nbformat_minor": 5
}
