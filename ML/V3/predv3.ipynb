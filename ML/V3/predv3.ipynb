{
 "cells": [
  {
   "cell_type": "code",
   "execution_count": 2,
   "id": "31ae0268-b89f-40fa-84a9-d5e75ba63684",
   "metadata": {},
   "outputs": [
    {
     "name": "stdout",
     "output_type": "stream",
     "text": [
      "Loading trained models and scalers...\n",
      "Models loaded successfully!\n"
     ]
    },
    {
     "name": "stdin",
     "output_type": "stream",
     "text": [
      "Enter the last semester you have completed (1-7):  4\n"
     ]
    },
    {
     "name": "stdout",
     "output_type": "stream",
     "text": [
      "\n",
      "Enter your SGPA for previous semesters one by one:\n"
     ]
    },
    {
     "name": "stdin",
     "output_type": "stream",
     "text": [
      "Enter SGPA for SEM-1:  8.06\n",
      "Enter SGPA for SEM-2:  7.79\n",
      "Enter SGPA for SEM-3:  8.32\n",
      "Enter SGPA for SEM-4:  7.89\n",
      "\n",
      "Do you want to predict only the next semester or all remaining semesters? (Enter 'next' or 'all'):  all\n"
     ]
    },
    {
     "name": "stdout",
     "output_type": "stream",
     "text": [
      "\n",
      "Predictions for Future Semesters:\n",
      "Predicted SGPA for SEM-5: 8.17\n",
      "Predicted SGPA for SEM-6: 7.98\n",
      "Predicted SGPA for SEM-7: 7.94\n",
      "Predicted SGPA for SEM-8: 7.78\n",
      "\n",
      "Predicted final CGPA after 8 semesters: 7.99\n"
     ]
    },
    {
     "name": "stderr",
     "output_type": "stream",
     "text": [
      "C:\\Users\\Noyal\\AppData\\Local\\Programs\\Python\\Python312\\Lib\\site-packages\\sklearn\\utils\\validation.py:2739: UserWarning: X does not have valid feature names, but StandardScaler was fitted with feature names\n",
      "  warnings.warn(\n",
      "C:\\Users\\Noyal\\AppData\\Local\\Programs\\Python\\Python312\\Lib\\site-packages\\sklearn\\utils\\validation.py:2739: UserWarning: X does not have valid feature names, but StandardScaler was fitted with feature names\n",
      "  warnings.warn(\n",
      "C:\\Users\\Noyal\\AppData\\Local\\Programs\\Python\\Python312\\Lib\\site-packages\\sklearn\\utils\\validation.py:2739: UserWarning: X does not have valid feature names, but StandardScaler was fitted with feature names\n",
      "  warnings.warn(\n",
      "C:\\Users\\Noyal\\AppData\\Local\\Programs\\Python\\Python312\\Lib\\site-packages\\sklearn\\utils\\validation.py:2739: UserWarning: X does not have valid feature names, but StandardScaler was fitted with feature names\n",
      "  warnings.warn(\n"
     ]
    }
   ],
   "source": [
    "import numpy as np\n",
    "import joblib\n",
    "import os\n",
    "\n",
    "# Check if models exist before trying to load them\n",
    "models_exist = all(os.path.exists(f\"SEM-{i}_model.pkl\") and os.path.exists(f\"SEM-{i}_scaler.pkl\") for i in range(2, 9))\n",
    "\n",
    "if not models_exist:\n",
    "    print(\"Error: Models not found. Please train the models first.\")\n",
    "    exit()\n",
    "\n",
    "# Load models and scalers\n",
    "mlp_models = {}\n",
    "scalers = {}\n",
    "\n",
    "print(\"Loading trained models and scalers...\")\n",
    "for i in range(2, 9):\n",
    "    target = f\"SEM-{i}\"\n",
    "    mlp_models[target] = joblib.load(f\"{target}_model.pkl\")\n",
    "    scalers[target] = joblib.load(f\"{target}_scaler.pkl\")\n",
    "print(\"Models loaded successfully!\")\n",
    "\n",
    "# Get input semester\n",
    "while True:\n",
    "    try:\n",
    "        current_sem = int(input(\"Enter the last semester you have completed (1-7): \"))\n",
    "        if current_sem in range(1, 8):\n",
    "            break\n",
    "        else:\n",
    "            print(\"Invalid choice. Please enter a number between 1 and 7.\")\n",
    "    except ValueError:\n",
    "        print(\"Invalid input. Please enter a numeric value.\")\n",
    "\n",
    "# Collect SGPA for completed semesters\n",
    "print(\"\\nEnter your SGPA for previous semesters one by one:\")\n",
    "prev_sgpa = []\n",
    "for i in range(1, current_sem + 1):\n",
    "    while True:\n",
    "        try:\n",
    "            sgpa = float(input(f\"Enter SGPA for SEM-{i}: \"))\n",
    "            if 0 <= sgpa <= 10:  # Assuming SGPA is on a scale of 0-10\n",
    "                prev_sgpa.append(sgpa)\n",
    "                break\n",
    "            else:\n",
    "                print(\"SGPA should be between 0 and 10. Please try again.\")\n",
    "        except ValueError:\n",
    "            print(\"Invalid input. Please enter a numeric value.\")\n",
    "\n",
    "# Ask user for prediction preference\n",
    "while True:\n",
    "    prediction_choice = input(\"\\nDo you want to predict only the next semester or all remaining semesters? (Enter 'next' or 'all'): \").lower().strip()\n",
    "    if prediction_choice in ['next', 'all']:\n",
    "        break\n",
    "    else:\n",
    "        print(\"Invalid choice. Please enter 'next' or 'all'.\")\n",
    "\n",
    "# Determine which semesters to predict\n",
    "future_semesters = [current_sem + 1] if prediction_choice == 'next' else range(current_sem + 1, 9)\n",
    "\n",
    "# Make predictions for selected future semesters\n",
    "print(\"\\nPredictions for Future Semesters:\")\n",
    "\n",
    "# Make a copy of the previous SGPAs to update as we make predictions\n",
    "all_sgpa = prev_sgpa.copy()\n",
    "\n",
    "for future_sem in future_semesters:\n",
    "    target = f\"SEM-{future_sem}\"\n",
    "\n",
    "    # Get only the required previous semesters for this prediction\n",
    "    required_prev_sgpa = all_sgpa[:future_sem-1]\n",
    "\n",
    "    # Compute derived features\n",
    "    avg_sgpa = np.mean(required_prev_sgpa)\n",
    "    sgpa_improvement = np.mean(np.diff(required_prev_sgpa)) if len(required_prev_sgpa) > 1 else 0\n",
    "    sgpa_difference = required_prev_sgpa[-1] - required_prev_sgpa[0] if len(required_prev_sgpa) > 1 else 0\n",
    "\n",
    "    # Create feature list matching the training data structure\n",
    "    features = required_prev_sgpa + [avg_sgpa, sgpa_improvement, sgpa_difference]\n",
    "    \n",
    "    # Create input features array\n",
    "    new_input = np.array(features).reshape(1, -1)\n",
    "\n",
    "    # Standardize and Predict\n",
    "    new_input_scaled = scalers[target].transform(new_input)\n",
    "    prediction = mlp_models[target].predict(new_input_scaled)\n",
    "    predicted_sgpa = round(prediction[0], 2)\n",
    "\n",
    "    print(f\"Predicted SGPA for {target}: {predicted_sgpa}\")\n",
    "\n",
    "    # Add the prediction to all_sgpa for use in subsequent predictions\n",
    "    all_sgpa.append(predicted_sgpa)\n",
    "\n",
    "# Calculate overall predicted CGPA if all semesters were predicted\n",
    "if prediction_choice == 'all' and current_sem < 8:\n",
    "    predicted_cgpa = round(sum(all_sgpa) / 8, 2)\n",
    "    print(f\"\\nPredicted final CGPA after 8 semesters: {predicted_cgpa}\")"
   ]
  },
  {
   "cell_type": "code",
   "execution_count": null,
   "id": "cafba625-7993-47e9-a78c-c3db6c091700",
   "metadata": {},
   "outputs": [],
   "source": []
  }
 ],
 "metadata": {
  "kernelspec": {
   "display_name": "Python 3 (ipykernel)",
   "language": "python",
   "name": "python3"
  },
  "language_info": {
   "codemirror_mode": {
    "name": "ipython",
    "version": 3
   },
   "file_extension": ".py",
   "mimetype": "text/x-python",
   "name": "python",
   "nbconvert_exporter": "python",
   "pygments_lexer": "ipython3",
   "version": "3.12.5"
  }
 },
 "nbformat": 4,
 "nbformat_minor": 5
}
